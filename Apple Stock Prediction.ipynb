{
 "cells": [
  {
   "cell_type": "code",
   "execution_count": 2,
   "metadata": {
    "id": "j2kd0zcuN8dm"
   },
   "outputs": [],
   "source": [
    "import matplotlib.pyplot as plt\n",
    "import pandas as pd\n",
    "import numpy as np"
   ]
  },
  {
   "cell_type": "code",
   "execution_count": 3,
   "metadata": {
    "colab": {
     "base_uri": "https://localhost:8080/",
     "height": 206
    },
    "id": "ay5zxWc3OFnR",
    "outputId": "e0536e09-17b6-410a-9b0c-25a4ed0d877f"
   },
   "outputs": [
    {
     "data": {
      "text/html": [
       "<div>\n",
       "<style scoped>\n",
       "    .dataframe tbody tr th:only-of-type {\n",
       "        vertical-align: middle;\n",
       "    }\n",
       "\n",
       "    .dataframe tbody tr th {\n",
       "        vertical-align: top;\n",
       "    }\n",
       "\n",
       "    .dataframe thead th {\n",
       "        text-align: right;\n",
       "    }\n",
       "</style>\n",
       "<table border=\"1\" class=\"dataframe\">\n",
       "  <thead>\n",
       "    <tr style=\"text-align: right;\">\n",
       "      <th></th>\n",
       "      <th>Date</th>\n",
       "      <th>Close/Last</th>\n",
       "      <th>Volume</th>\n",
       "      <th>Open</th>\n",
       "      <th>High</th>\n",
       "      <th>Low</th>\n",
       "    </tr>\n",
       "  </thead>\n",
       "  <tbody>\n",
       "    <tr>\n",
       "      <th>0</th>\n",
       "      <td>08/04/2023</td>\n",
       "      <td>$181.99</td>\n",
       "      <td>115956800</td>\n",
       "      <td>$185.52</td>\n",
       "      <td>$187.38</td>\n",
       "      <td>$181.92</td>\n",
       "    </tr>\n",
       "    <tr>\n",
       "      <th>1</th>\n",
       "      <td>08/03/2023</td>\n",
       "      <td>$191.17</td>\n",
       "      <td>62243280</td>\n",
       "      <td>$191.57</td>\n",
       "      <td>$192.37</td>\n",
       "      <td>$190.69</td>\n",
       "    </tr>\n",
       "    <tr>\n",
       "      <th>2</th>\n",
       "      <td>08/02/2023</td>\n",
       "      <td>$192.58</td>\n",
       "      <td>50389330</td>\n",
       "      <td>$195.04</td>\n",
       "      <td>$195.18</td>\n",
       "      <td>$191.8507</td>\n",
       "    </tr>\n",
       "    <tr>\n",
       "      <th>3</th>\n",
       "      <td>08/01/2023</td>\n",
       "      <td>$195.605</td>\n",
       "      <td>35281430</td>\n",
       "      <td>$196.235</td>\n",
       "      <td>$196.73</td>\n",
       "      <td>$195.28</td>\n",
       "    </tr>\n",
       "    <tr>\n",
       "      <th>4</th>\n",
       "      <td>07/31/2023</td>\n",
       "      <td>$196.45</td>\n",
       "      <td>38824110</td>\n",
       "      <td>$196.06</td>\n",
       "      <td>$196.49</td>\n",
       "      <td>$195.26</td>\n",
       "    </tr>\n",
       "  </tbody>\n",
       "</table>\n",
       "</div>"
      ],
      "text/plain": [
       "         Date Close/Last     Volume      Open     High        Low\n",
       "0  08/04/2023    $181.99  115956800   $185.52  $187.38    $181.92\n",
       "1  08/03/2023    $191.17   62243280   $191.57  $192.37    $190.69\n",
       "2  08/02/2023    $192.58   50389330   $195.04  $195.18  $191.8507\n",
       "3  08/01/2023   $195.605   35281430  $196.235  $196.73    $195.28\n",
       "4  07/31/2023    $196.45   38824110   $196.06  $196.49    $195.26"
      ]
     },
     "execution_count": 3,
     "metadata": {},
     "output_type": "execute_result"
    }
   ],
   "source": [
    "df = pd.read_csv(\"all_apple_stock_data.csv\")\n",
    "df.head()"
   ]
  },
  {
   "cell_type": "code",
   "execution_count": 4,
   "metadata": {
    "colab": {
     "base_uri": "https://localhost:8080/"
    },
    "id": "347bZkmJOcYd",
    "outputId": "90ad84fc-b4ac-4c2c-889c-bb067507d945"
   },
   "outputs": [
    {
     "data": {
      "text/plain": [
       "Index(['Date', 'Close/Last', 'Volume', 'Open', 'High', 'Low'], dtype='object')"
      ]
     },
     "execution_count": 4,
     "metadata": {},
     "output_type": "execute_result"
    }
   ],
   "source": [
    "df.columns"
   ]
  },
  {
   "cell_type": "code",
   "execution_count": 5,
   "metadata": {
    "colab": {
     "base_uri": "https://localhost:8080/"
    },
    "id": "4s_1E-9cOd7G",
    "outputId": "c664adb1-6f0f-4bf0-a446-ece4e0872116"
   },
   "outputs": [
    {
     "data": {
      "text/plain": [
       "array([['$185.52'],\n",
       "       ['$191.57'],\n",
       "       ['$195.04'],\n",
       "       ['$196.235'],\n",
       "       ['$196.06'],\n",
       "       ['$194.67'],\n",
       "       ['$196.02'],\n",
       "       ['$193.67'],\n",
       "       ['$193.33'],\n",
       "       ['$193.41'],\n",
       "       ['$194.10'],\n",
       "       ['$195.09'],\n",
       "       ['$193.10'],\n",
       "       ['$193.35'],\n",
       "       ['$191.90'],\n",
       "       ['$190.23'],\n",
       "       ['$190.50'],\n",
       "       ['$189.68'],\n",
       "       ['$189.16'],\n",
       "       ['$189.26'],\n",
       "       ['$191.41'],\n",
       "       ['$189.84'],\n",
       "       ['$191.565'],\n",
       "       ['$193.78'],\n",
       "       ['$191.63'],\n",
       "       ['$189.08'],\n",
       "       ['$187.93'],\n",
       "       ['$185.89'],\n",
       "       ['$186.83'],\n",
       "       ['$185.55'],\n",
       "       ['$183.74'],\n",
       "       ['$184.90'],\n",
       "       ['$184.41'],\n",
       "       ['$186.73'],\n",
       "       ['$183.96'],\n",
       "       ['$183.37'],\n",
       "       ['$182.80'],\n",
       "       ['$181.27'],\n",
       "       ['$181.50'],\n",
       "       ['$177.895'],\n",
       "       ['$178.44'],\n",
       "       ['$179.965'],\n",
       "       ['$182.63'],\n",
       "       ['$181.03'],\n",
       "       ['$177.70'],\n",
       "       ['$177.325'],\n",
       "       ['$176.96'],\n",
       "       ['$173.32'],\n",
       "       ['$172.41'],\n",
       "       ['$171.09'],\n",
       "       ['$173.13'],\n",
       "       ['$173.98'],\n",
       "       ['$176.39'],\n",
       "       ['$173.00'],\n",
       "       ['$171.71'],\n",
       "       ['$171.99'],\n",
       "       ['$173.16'],\n",
       "       ['$173.62'],\n",
       "       ['$173.85'],\n",
       "       ['$173.02'],\n",
       "       ['$173.05'],\n",
       "       ['$172.48'],\n",
       "       ['$170.975'],\n",
       "       ['$164.89'],\n",
       "       ['$169.50'],\n",
       "       ['$170.09'],\n",
       "       ['$169.28'],\n",
       "       ['$168.49'],\n",
       "       ['$165.19'],\n",
       "       ['$163.055'],\n",
       "       ['$165.19'],\n",
       "       ['$165.00'],\n",
       "       ['$165.05'],\n",
       "       ['$166.09'],\n",
       "       ['$165.80'],\n",
       "       ['$166.10'],\n",
       "       ['$165.09'],\n",
       "       ['$164.59'],\n",
       "       ['$161.63'],\n",
       "       ['$161.22'],\n",
       "       ['$162.35'],\n",
       "       ['$161.42'],\n",
       "       ['$162.43'],\n",
       "       ['$164.74'],\n",
       "       ['$166.595'],\n",
       "       ['$164.27'],\n",
       "       ['$162.44'],\n",
       "       ['$161.53'],\n",
       "       ['$159.37'],\n",
       "       ['$157.97'],\n",
       "       ['$159.94'],\n",
       "       ['$158.86'],\n",
       "       ['$158.83'],\n",
       "       ['$159.30'],\n",
       "       ['$157.32'],\n",
       "       ['$155.07'],\n",
       "       ['$156.08'],\n",
       "       ['$152.16'],\n",
       "       ['$151.19'],\n",
       "       ['$151.28'],\n",
       "       ['$147.805'],\n",
       "       ['$150.21'],\n",
       "       ['$153.559'],\n",
       "       ['$152.81'],\n",
       "       ['$153.70'],\n",
       "       ['$153.785'],\n",
       "       ['$148.045'],\n",
       "       ['$144.38'],\n",
       "       ['$146.83'],\n",
       "       ['$147.05'],\n",
       "       ['$147.71'],\n",
       "       ['$147.11'],\n",
       "       ['$150.09'],\n",
       "       ['$148.87'],\n",
       "       ['$150.20'],\n",
       "       ['$152.35'],\n",
       "       ['$153.51'],\n",
       "       ['$153.11'],\n",
       "       ['$152.12'],\n",
       "       ['$150.952'],\n",
       "       ['$149.46'],\n",
       "       ['$153.775'],\n",
       "       ['$153.88'],\n",
       "       ['$150.64'],\n",
       "       ['$152.575']], dtype=object)"
      ]
     },
     "execution_count": 5,
     "metadata": {},
     "output_type": "execute_result"
    }
   ],
   "source": [
    "# Extracts the values from the \"Open\" column of the DataFrame df and creates a new NumPy array.\n",
    "# The resulting array will contain only the values from the \"Open\" column, without any row or column labels.\n",
    "df1 = df[[\"Open\"]].values\n",
    "df1"
   ]
  },
  {
   "cell_type": "code",
   "execution_count": 6,
   "metadata": {},
   "outputs": [
    {
     "data": {
      "text/plain": [
       "0      185.520\n",
       "1      191.570\n",
       "2      195.040\n",
       "3      196.235\n",
       "4      196.060\n",
       "        ...   \n",
       "120    149.460\n",
       "121    153.775\n",
       "122    153.880\n",
       "123    150.640\n",
       "124    152.575\n",
       "Name: Open, Length: 125, dtype: float64"
      ]
     },
     "execution_count": 6,
     "metadata": {},
     "output_type": "execute_result"
    }
   ],
   "source": [
    "# Replace function to remove dollar sign/commas from values in the \"Open\" column.\n",
    "# The `regex=True` argument enables the use of regular expressions for matching the characters to replace.\n",
    "# The resulting modified values are then converted to floating-point numbers using `astype(float)`.\n",
    "\n",
    "df1 = df[\"Open\"].replace({'\\$': '', ',':''}, regex=True).astype(float)\n",
    "\n",
    "# The modified values are stored in the df1 variable.\n",
    "df1"
   ]
  },
  {
   "cell_type": "code",
   "execution_count": 7,
   "metadata": {},
   "outputs": [
    {
     "name": "stdout",
     "output_type": "stream",
     "text": [
      "(125,)\n"
     ]
    }
   ],
   "source": [
    "print(df1.shape)"
   ]
  },
  {
   "cell_type": "code",
   "execution_count": 8,
   "metadata": {},
   "outputs": [
    {
     "data": {
      "text/plain": [
       "array([[0.79336612],\n",
       "       [0.9100376 ],\n",
       "       [0.97695497],\n",
       "       [1.        ],\n",
       "       [0.9966252 ],\n",
       "       [0.96981969],\n",
       "       [0.99585382],\n",
       "       [0.95053515],\n",
       "       [0.9439784 ],\n",
       "       [0.94552116],\n",
       "       [0.9588275 ],\n",
       "       [0.9779192 ],\n",
       "       [0.93954296],\n",
       "       [0.94436409],\n",
       "       [0.9164015 ],\n",
       "       [0.88419632],\n",
       "       [0.88940314],\n",
       "       [0.87358982],\n",
       "       [0.86356186],\n",
       "       [0.86549031],\n",
       "       [0.90695208],\n",
       "       [0.87667534],\n",
       "       [0.90994118],\n",
       "       [0.95265645],\n",
       "       [0.91119468],\n",
       "       [0.86201909],\n",
       "       [0.83984187],\n",
       "       [0.8005014 ],\n",
       "       [0.81862887],\n",
       "       [0.79394465],\n",
       "       [0.75903963],\n",
       "       [0.7814097 ],\n",
       "       [0.77196027],\n",
       "       [0.81670041],\n",
       "       [0.76328223],\n",
       "       [0.75190435],\n",
       "       [0.74091216],\n",
       "       [0.71140681],\n",
       "       [0.71584225],\n",
       "       [0.64632147],\n",
       "       [0.65683155],\n",
       "       [0.68624048],\n",
       "       [0.73763379],\n",
       "       [0.70677852],\n",
       "       [0.64256099],\n",
       "       [0.63532928],\n",
       "       [0.62829043],\n",
       "       [0.55809469],\n",
       "       [0.54054575],\n",
       "       [0.51509016],\n",
       "       [0.55443062],\n",
       "       [0.57082249],\n",
       "       [0.61729824],\n",
       "       [0.55192363],\n",
       "       [0.52704657],\n",
       "       [0.53244624],\n",
       "       [0.55500916],\n",
       "       [0.56388005],\n",
       "       [0.5683155 ],\n",
       "       [0.55230932],\n",
       "       [0.55288786],\n",
       "       [0.54189567],\n",
       "       [0.51287243],\n",
       "       [0.39552599],\n",
       "       [0.48442773],\n",
       "       [0.49580561],\n",
       "       [0.48018513],\n",
       "       [0.46495034],\n",
       "       [0.40131135],\n",
       "       [0.36013885],\n",
       "       [0.40131135],\n",
       "       [0.39764729],\n",
       "       [0.39861151],\n",
       "       [0.41866744],\n",
       "       [0.41307492],\n",
       "       [0.41886028],\n",
       "       [0.39938289],\n",
       "       [0.38974062],\n",
       "       [0.33265837],\n",
       "       [0.32475171],\n",
       "       [0.34654325],\n",
       "       [0.32860862],\n",
       "       [0.34808601],\n",
       "       [0.3926333 ],\n",
       "       [0.42840613],\n",
       "       [0.38356957],\n",
       "       [0.34827885],\n",
       "       [0.33072992],\n",
       "       [0.28907531],\n",
       "       [0.26207695],\n",
       "       [0.3000675 ],\n",
       "       [0.27924019],\n",
       "       [0.27866165],\n",
       "       [0.28772539],\n",
       "       [0.24954199],\n",
       "       [0.20615177],\n",
       "       [0.22562916],\n",
       "       [0.15003375],\n",
       "       [0.13132774],\n",
       "       [0.13306335],\n",
       "       [0.06604956],\n",
       "       [0.11242889],\n",
       "       [0.17701282],\n",
       "       [0.1625687 ],\n",
       "       [0.17973194],\n",
       "       [0.18137113],\n",
       "       [0.07067785],\n",
       "       [0.        ],\n",
       "       [0.04724713],\n",
       "       [0.05148973],\n",
       "       [0.06421753],\n",
       "       [0.0526468 ],\n",
       "       [0.11011474],\n",
       "       [0.0865876 ],\n",
       "       [0.11223604],\n",
       "       [0.15369781],\n",
       "       [0.17606788],\n",
       "       [0.16835406],\n",
       "       [0.14926237],\n",
       "       [0.12673802],\n",
       "       [0.09796548],\n",
       "       [0.18117829],\n",
       "       [0.18320316],\n",
       "       [0.12072124],\n",
       "       [0.15803683]])"
      ]
     },
     "execution_count": 8,
     "metadata": {},
     "output_type": "execute_result"
    }
   ],
   "source": [
    "from sklearn.preprocessing import MinMaxScaler\n",
    "scaler=MinMaxScaler(feature_range=(0,1))\n",
    "df1=scaler.fit_transform(np.array(df1).reshape(-1,1));df1"
   ]
  },
  {
   "cell_type": "code",
   "execution_count": 9,
   "metadata": {},
   "outputs": [
    {
     "name": "stdout",
     "output_type": "stream",
     "text": [
      "125\n"
     ]
    }
   ],
   "source": [
    "num_of_prices = len(df1)\n",
    "print(len(df1))"
   ]
  },
  {
   "cell_type": "code",
   "execution_count": 10,
   "metadata": {},
   "outputs": [],
   "source": [
    "apple_price_features = [] #feature group input values-x's. We are going to fit our x's(independent variable)\n",
    "apple_price_labels = [] #label group output values-x's. We are going to fit out y (dependent variable)\n",
    "for i in range (10, (num_of_prices)):\n",
    "    apple_price_features.append(df1[i-10:i, 0])# the feature values b/w 0-9 of df1 scaled grouping. makes group of 10\n",
    "    apple_price_labels.append(df1[i, 0])# 1 number for 10 inputs or 1 output for 10 outputs. produces only one \n",
    "    #value of y -> one value each of 10 prices.\n",
    "    "
   ]
  },
  {
   "cell_type": "code",
   "execution_count": 11,
   "metadata": {},
   "outputs": [],
   "source": [
    "# Create training data for a machine learning model using a subset of the data.\n",
    "\n",
    "# Create an array x_train containing the first 100 elements of the 'apple_price_features' array.\n",
    "x_train = np.array(apple_price_features[0:100])\n",
    "\n",
    "# Create an array y_train containing the corresponding first 100 elements of the 'apple_price_labels' array.\n",
    "y_train = np.array(apple_price_labels[0:100])\n"
   ]
  },
  {
   "cell_type": "code",
   "execution_count": 12,
   "metadata": {},
   "outputs": [
    {
     "name": "stdout",
     "output_type": "stream",
     "text": [
      "(100, 10)\n",
      "(100,)\n"
     ]
    }
   ],
   "source": [
    "print(x_train.shape)\n",
    "print(y_train.shape)"
   ]
  },
  {
   "cell_type": "code",
   "execution_count": 28,
   "metadata": {},
   "outputs": [],
   "source": [
    "# Prepare testing data for a machine learning model using the remaining data.\n",
    "\n",
    "# Create an array x_test containing elements from index 101 to the end of the 'apple_price_features' array.\n",
    "x_test = np.array(apple_price_features[101:])\n",
    "\n",
    "# Create an array y_test containing elements from index 101 to the end of the 'apple_price_labels' array.\n",
    "y_test = np.array(apple_price_labels[101:])"
   ]
  },
  {
   "cell_type": "code",
   "execution_count": 14,
   "metadata": {},
   "outputs": [
    {
     "name": "stdout",
     "output_type": "stream",
     "text": [
      "(14, 10, 1)\n"
     ]
    }
   ],
   "source": [
    "# Create an array x_test containing elements from index 101 to the end of the 'apple_price_features' array.\n",
    "x_test = np.array(apple_price_features[101:])\n",
    "\n",
    "# Create an array y_test containing elements from index 101 to the end of the 'apple_price_labels' array.\n",
    "y_test = np.array(apple_price_labels[101:])\n",
    "\n",
    "# Reshape x_test to match the input shape expected by the sequence-based model.\n",
    "# The shape of x_test is modified to (number of samples, sequence length, number of features per time step).\n",
    "x_test = np.reshape(x_test, (x_test.shape[0], x_test.shape[1], 1))\n",
    "\n",
    "# Print the shape of the modified x_test array.\n",
    "print(x_test.shape)\n"
   ]
  },
  {
   "cell_type": "code",
   "execution_count": 15,
   "metadata": {},
   "outputs": [],
   "source": [
    "# Keras -> have neural network models -> importing one such model\n",
    "# tensorflow is an open source library developed by google -> for building Neural Network\n",
    "# keras builds the layers of the Neural Network"
   ]
  },
  {
   "cell_type": "code",
   "execution_count": 16,
   "metadata": {},
   "outputs": [],
   "source": [
    "from tensorflow.keras.layers import Input, Dense, Dropout, LSTM\n",
    "from tensorflow.keras.models import Model"
   ]
  },
  {
   "cell_type": "code",
   "execution_count": 29,
   "metadata": {},
   "outputs": [
    {
     "name": "stdout",
     "output_type": "stream",
     "text": [
      "Model: \"model_1\"\n",
      "_________________________________________________________________\n",
      " Layer (type)                Output Shape              Param #   \n",
      "=================================================================\n",
      " input_2 (InputLayer)        [(None, 10, 1)]           0         \n",
      "                                                                 \n",
      " lstm_4 (LSTM)               (None, 10, 100)           40800     \n",
      "                                                                 \n",
      " dropout_1 (Dropout)         (None, 10, 100)           0         \n",
      "                                                                 \n",
      " lstm_5 (LSTM)               (None, 10, 120)           106080    \n",
      "                                                                 \n",
      " lstm_6 (LSTM)               (None, 10, 80)            64320     \n",
      "                                                                 \n",
      " lstm_7 (LSTM)               (None, 50)                26200     \n",
      "                                                                 \n",
      " dense_1 (Dense)             (None, 1)                 51        \n",
      "                                                                 \n",
      "=================================================================\n",
      "Total params: 237,451\n",
      "Trainable params: 237,451\n",
      "Non-trainable params: 0\n",
      "_________________________________________________________________\n",
      "None\n",
      "(100, 10)\n",
      "(100,)\n"
     ]
    }
   ],
   "source": [
    "# Define the input layer with the shape of the training data (sequence length, number of features per time step).\n",
    "input_layer = Input(shape=(x_train.shape[1], 1))\n",
    "\n",
    "# Add a Long Short-Term Memory (LSTM) layer with 100 units, ReLU activation, and returning sequences.\n",
    "lstm1 = LSTM(100, activation='relu', return_sequences=True)(input_layer)\n",
    "\n",
    "# Add a dropout layer to prevent overfitting by randomly deactivating 10% of the LSTM outputs.\n",
    "drop1 = Dropout(0.1)(lstm1)\n",
    "\n",
    "# Add another LSTM layer with 120 units, ReLU activation, and returning sequences.\n",
    "lstm2 = LSTM(120, activation='relu', return_sequences=True)(drop1)\n",
    "\n",
    "# Add another LSTM layer with 80 units, ReLU activation, and returning sequences.\n",
    "lstm3 = LSTM(80, activation='relu', return_sequences=True)(lstm2)\n",
    "\n",
    "# Add a final LSTM layer with 50 units and ReLU activation.\n",
    "lstm4 = LSTM(50, activation='relu')(lstm3)\n",
    "\n",
    "# Define the output layer with a single neuron for regression task.\n",
    "output_layer = Dense(1)(lstm4)\n",
    "\n",
    "# Create a model that takes the input and produces the output.\n",
    "model = Model(input_layer, output_layer)\n",
    "\n",
    "# Compile the model with the Adam optimizer and mean squared error (MSE) loss.\n",
    "model.compile(optimizer='adam', loss='mse')\n",
    "\n",
    "# Print a summary of the model architecture.\n",
    "print(model.summary())\n",
    "\n",
    "# Print the shapes of the training data arrays.\n",
    "print(x_train.shape)\n",
    "print(y_train.shape)\n"
   ]
  },
  {
   "cell_type": "code",
   "execution_count": 18,
   "metadata": {},
   "outputs": [
    {
     "name": "stdout",
     "output_type": "stream",
     "text": [
      "Epoch 1/100\n",
      "5/5 [==============================] - 2s 87ms/step - loss: 0.3318 - val_loss: 0.0138\n",
      "Epoch 2/100\n",
      "5/5 [==============================] - 0s 16ms/step - loss: 0.2889 - val_loss: 0.0057\n",
      "Epoch 3/100\n",
      "5/5 [==============================] - 0s 15ms/step - loss: 0.1918 - val_loss: 0.0056\n",
      "Epoch 4/100\n",
      "5/5 [==============================] - 0s 15ms/step - loss: 0.0598 - val_loss: 0.0598\n",
      "Epoch 5/100\n",
      "5/5 [==============================] - 0s 15ms/step - loss: 0.0276 - val_loss: 0.0175\n",
      "Epoch 6/100\n",
      "5/5 [==============================] - 0s 15ms/step - loss: 0.0395 - val_loss: 0.0216\n",
      "Epoch 7/100\n",
      "5/5 [==============================] - 0s 16ms/step - loss: 0.0226 - val_loss: 0.0426\n",
      "Epoch 8/100\n",
      "5/5 [==============================] - 0s 15ms/step - loss: 0.0193 - val_loss: 0.0248\n",
      "Epoch 9/100\n",
      "5/5 [==============================] - 0s 15ms/step - loss: 0.0160 - val_loss: 0.0122\n",
      "Epoch 10/100\n",
      "5/5 [==============================] - 0s 15ms/step - loss: 0.0106 - val_loss: 0.0136\n",
      "Epoch 11/100\n",
      "5/5 [==============================] - 0s 15ms/step - loss: 0.0077 - val_loss: 0.0045\n",
      "Epoch 12/100\n",
      "5/5 [==============================] - 0s 15ms/step - loss: 0.0058 - val_loss: 0.0031\n",
      "Epoch 13/100\n",
      "5/5 [==============================] - 0s 15ms/step - loss: 0.0042 - val_loss: 0.0020\n",
      "Epoch 14/100\n",
      "5/5 [==============================] - 0s 15ms/step - loss: 0.0044 - val_loss: 0.0019\n",
      "Epoch 15/100\n",
      "5/5 [==============================] - 0s 15ms/step - loss: 0.0045 - val_loss: 0.0019\n",
      "Epoch 16/100\n",
      "5/5 [==============================] - 0s 15ms/step - loss: 0.0045 - val_loss: 0.0019\n",
      "Epoch 17/100\n",
      "5/5 [==============================] - 0s 15ms/step - loss: 0.0036 - val_loss: 0.0019\n",
      "Epoch 18/100\n",
      "5/5 [==============================] - 0s 15ms/step - loss: 0.0032 - val_loss: 0.0020\n",
      "Epoch 19/100\n",
      "5/5 [==============================] - 0s 15ms/step - loss: 0.0024 - val_loss: 0.0022\n",
      "Epoch 20/100\n",
      "5/5 [==============================] - 0s 15ms/step - loss: 0.0026 - val_loss: 0.0026\n",
      "Epoch 21/100\n",
      "5/5 [==============================] - 0s 15ms/step - loss: 0.0025 - val_loss: 0.0032\n",
      "Epoch 22/100\n",
      "5/5 [==============================] - 0s 15ms/step - loss: 0.0024 - val_loss: 0.0035\n",
      "Epoch 23/100\n",
      "5/5 [==============================] - 0s 14ms/step - loss: 0.0020 - val_loss: 0.0043\n",
      "Epoch 24/100\n",
      "5/5 [==============================] - 0s 14ms/step - loss: 0.0024 - val_loss: 0.0055\n",
      "Epoch 25/100\n",
      "5/5 [==============================] - 0s 14ms/step - loss: 0.0024 - val_loss: 0.0053\n",
      "Epoch 26/100\n",
      "5/5 [==============================] - 0s 14ms/step - loss: 0.0023 - val_loss: 0.0060\n",
      "Epoch 27/100\n",
      "5/5 [==============================] - 0s 13ms/step - loss: 0.0021 - val_loss: 0.0062\n",
      "Epoch 28/100\n",
      "5/5 [==============================] - 0s 14ms/step - loss: 0.0022 - val_loss: 0.0065\n",
      "Epoch 29/100\n",
      "5/5 [==============================] - 0s 14ms/step - loss: 0.0021 - val_loss: 0.0060\n",
      "Epoch 30/100\n",
      "5/5 [==============================] - 0s 14ms/step - loss: 0.0021 - val_loss: 0.0061\n",
      "Epoch 31/100\n",
      "5/5 [==============================] - 0s 14ms/step - loss: 0.0023 - val_loss: 0.0062\n",
      "Epoch 32/100\n",
      "5/5 [==============================] - 0s 14ms/step - loss: 0.0023 - val_loss: 0.0064\n",
      "Epoch 33/100\n",
      "5/5 [==============================] - 0s 14ms/step - loss: 0.0024 - val_loss: 0.0063\n",
      "Epoch 34/100\n",
      "5/5 [==============================] - 0s 15ms/step - loss: 0.0022 - val_loss: 0.0065\n",
      "Epoch 35/100\n",
      "5/5 [==============================] - 0s 15ms/step - loss: 0.0023 - val_loss: 0.0057\n",
      "Epoch 36/100\n",
      "5/5 [==============================] - 0s 15ms/step - loss: 0.0026 - val_loss: 0.0059\n",
      "Epoch 37/100\n",
      "5/5 [==============================] - 0s 15ms/step - loss: 0.0028 - val_loss: 0.0055\n",
      "Epoch 38/100\n",
      "5/5 [==============================] - 0s 15ms/step - loss: 0.0028 - val_loss: 0.0061\n",
      "Epoch 39/100\n",
      "5/5 [==============================] - 0s 15ms/step - loss: 0.0026 - val_loss: 0.0056\n",
      "Epoch 40/100\n",
      "5/5 [==============================] - 0s 15ms/step - loss: 0.0022 - val_loss: 0.0057\n",
      "Epoch 41/100\n",
      "5/5 [==============================] - 0s 16ms/step - loss: 0.0022 - val_loss: 0.0061\n",
      "Epoch 42/100\n",
      "5/5 [==============================] - 0s 15ms/step - loss: 0.0022 - val_loss: 0.0058\n",
      "Epoch 43/100\n",
      "5/5 [==============================] - 0s 15ms/step - loss: 0.0022 - val_loss: 0.0061\n",
      "Epoch 44/100\n",
      "5/5 [==============================] - 0s 15ms/step - loss: 0.0020 - val_loss: 0.0058\n",
      "Epoch 45/100\n",
      "5/5 [==============================] - 0s 15ms/step - loss: 0.0021 - val_loss: 0.0065\n",
      "Epoch 46/100\n",
      "5/5 [==============================] - 0s 15ms/step - loss: 0.0022 - val_loss: 0.0059\n",
      "Epoch 47/100\n",
      "5/5 [==============================] - 0s 16ms/step - loss: 0.0020 - val_loss: 0.0063\n",
      "Epoch 48/100\n",
      "5/5 [==============================] - 0s 15ms/step - loss: 0.0022 - val_loss: 0.0063\n",
      "Epoch 49/100\n",
      "5/5 [==============================] - 0s 15ms/step - loss: 0.0023 - val_loss: 0.0064\n",
      "Epoch 50/100\n",
      "5/5 [==============================] - 0s 15ms/step - loss: 0.0024 - val_loss: 0.0066\n",
      "Epoch 51/100\n",
      "5/5 [==============================] - 0s 15ms/step - loss: 0.0021 - val_loss: 0.0062\n",
      "Epoch 52/100\n",
      "5/5 [==============================] - 0s 15ms/step - loss: 0.0022 - val_loss: 0.0074\n",
      "Epoch 53/100\n",
      "5/5 [==============================] - 0s 15ms/step - loss: 0.0021 - val_loss: 0.0064\n",
      "Epoch 54/100\n",
      "5/5 [==============================] - 0s 15ms/step - loss: 0.0025 - val_loss: 0.0065\n",
      "Epoch 55/100\n",
      "5/5 [==============================] - 0s 15ms/step - loss: 0.0025 - val_loss: 0.0084\n",
      "Epoch 56/100\n",
      "5/5 [==============================] - 0s 15ms/step - loss: 0.0024 - val_loss: 0.0064\n",
      "Epoch 57/100\n",
      "5/5 [==============================] - 0s 15ms/step - loss: 0.0021 - val_loss: 0.0068\n",
      "Epoch 58/100\n",
      "5/5 [==============================] - 0s 15ms/step - loss: 0.0022 - val_loss: 0.0076\n",
      "Epoch 59/100\n",
      "5/5 [==============================] - 0s 15ms/step - loss: 0.0021 - val_loss: 0.0080\n",
      "Epoch 60/100\n",
      "5/5 [==============================] - 0s 15ms/step - loss: 0.0020 - val_loss: 0.0075\n",
      "Epoch 61/100\n",
      "5/5 [==============================] - 0s 15ms/step - loss: 0.0021 - val_loss: 0.0091\n",
      "Epoch 62/100\n",
      "5/5 [==============================] - 0s 15ms/step - loss: 0.0020 - val_loss: 0.0075\n",
      "Epoch 63/100\n",
      "5/5 [==============================] - 0s 15ms/step - loss: 0.0020 - val_loss: 0.0091\n",
      "Epoch 64/100\n",
      "5/5 [==============================] - 0s 15ms/step - loss: 0.0022 - val_loss: 0.0072\n",
      "Epoch 65/100\n",
      "5/5 [==============================] - 0s 15ms/step - loss: 0.0023 - val_loss: 0.0086\n",
      "Epoch 66/100\n",
      "5/5 [==============================] - 0s 15ms/step - loss: 0.0023 - val_loss: 0.0082\n",
      "Epoch 67/100\n",
      "5/5 [==============================] - 0s 15ms/step - loss: 0.0027 - val_loss: 0.0105\n",
      "Epoch 68/100\n",
      "5/5 [==============================] - 0s 15ms/step - loss: 0.0023 - val_loss: 0.0070\n",
      "Epoch 69/100\n",
      "5/5 [==============================] - 0s 15ms/step - loss: 0.0022 - val_loss: 0.0123\n",
      "Epoch 70/100\n",
      "5/5 [==============================] - 0s 15ms/step - loss: 0.0022 - val_loss: 0.0115\n",
      "Epoch 71/100\n",
      "5/5 [==============================] - 0s 15ms/step - loss: 0.0023 - val_loss: 0.0087\n",
      "Epoch 72/100\n",
      "5/5 [==============================] - 0s 15ms/step - loss: 0.0022 - val_loss: 0.0070\n",
      "Epoch 73/100\n",
      "5/5 [==============================] - 0s 15ms/step - loss: 0.0023 - val_loss: 0.0101\n",
      "Epoch 74/100\n",
      "5/5 [==============================] - 0s 15ms/step - loss: 0.0021 - val_loss: 0.0151\n",
      "Epoch 75/100\n",
      "5/5 [==============================] - 0s 15ms/step - loss: 0.0023 - val_loss: 0.0111\n",
      "Epoch 76/100\n",
      "5/5 [==============================] - 0s 15ms/step - loss: 0.0020 - val_loss: 0.0097\n",
      "Epoch 77/100\n",
      "5/5 [==============================] - 0s 15ms/step - loss: 0.0021 - val_loss: 0.0124\n",
      "Epoch 78/100\n",
      "5/5 [==============================] - 0s 15ms/step - loss: 0.0024 - val_loss: 0.0110\n",
      "Epoch 79/100\n",
      "5/5 [==============================] - 0s 15ms/step - loss: 0.0021 - val_loss: 0.0138\n",
      "Epoch 80/100\n",
      "5/5 [==============================] - 0s 15ms/step - loss: 0.0022 - val_loss: 0.0156\n",
      "Epoch 81/100\n",
      "5/5 [==============================] - 0s 14ms/step - loss: 0.0024 - val_loss: 0.0088\n",
      "Epoch 82/100\n",
      "5/5 [==============================] - 0s 14ms/step - loss: 0.0031 - val_loss: 0.0113\n",
      "Epoch 83/100\n",
      "5/5 [==============================] - 0s 15ms/step - loss: 0.0025 - val_loss: 0.0182\n",
      "Epoch 84/100\n",
      "5/5 [==============================] - 0s 15ms/step - loss: 0.0021 - val_loss: 0.0099\n",
      "Epoch 85/100\n",
      "5/5 [==============================] - 0s 15ms/step - loss: 0.0023 - val_loss: 0.0141\n",
      "Epoch 86/100\n",
      "5/5 [==============================] - 0s 15ms/step - loss: 0.0021 - val_loss: 0.0198\n",
      "Epoch 87/100\n",
      "5/5 [==============================] - 0s 15ms/step - loss: 0.0025 - val_loss: 0.0075\n",
      "Epoch 88/100\n",
      "5/5 [==============================] - 0s 15ms/step - loss: 0.0024 - val_loss: 0.0119\n",
      "Epoch 89/100\n",
      "5/5 [==============================] - 0s 15ms/step - loss: 0.0024 - val_loss: 0.0232\n",
      "Epoch 90/100\n",
      "5/5 [==============================] - 0s 15ms/step - loss: 0.0025 - val_loss: 0.0104\n",
      "Epoch 91/100\n",
      "5/5 [==============================] - 0s 15ms/step - loss: 0.0026 - val_loss: 0.0100\n",
      "Epoch 92/100\n",
      "5/5 [==============================] - 0s 15ms/step - loss: 0.0024 - val_loss: 0.0164\n",
      "Epoch 93/100\n",
      "5/5 [==============================] - 0s 15ms/step - loss: 0.0026 - val_loss: 0.0174\n",
      "Epoch 94/100\n",
      "5/5 [==============================] - 0s 15ms/step - loss: 0.0024 - val_loss: 0.0196\n",
      "Epoch 95/100\n",
      "5/5 [==============================] - 0s 15ms/step - loss: 0.0019 - val_loss: 0.0091\n",
      "Epoch 96/100\n",
      "5/5 [==============================] - 0s 15ms/step - loss: 0.0022 - val_loss: 0.0102\n",
      "Epoch 97/100\n",
      "5/5 [==============================] - 0s 15ms/step - loss: 0.0020 - val_loss: 0.0295\n",
      "Epoch 98/100\n",
      "5/5 [==============================] - 0s 15ms/step - loss: 0.0024 - val_loss: 0.0141\n",
      "Epoch 99/100\n",
      "5/5 [==============================] - 0s 15ms/step - loss: 0.0025 - val_loss: 0.0134\n",
      "Epoch 100/100\n",
      "5/5 [==============================] - 0s 15ms/step - loss: 0.0021 - val_loss: 0.0191\n"
     ]
    }
   ],
   "source": [
    "# Train the model using x_train (input features) and y_train (target labels).\n",
    "# Each training batch contains 20 samples.\n",
    "# The training process runs for 100 epochs (iterations through the entire dataset).\n",
    "\n",
    "# During training, also use the x_test (test input features) and y_test (test target labels) for validation.\n",
    "# This helps monitor the model's performance on unseen data.\n",
    "\n",
    "# The `verbose` parameter is set to 1, which displays training progress during each epoch.\n",
    "\n",
    "\n",
    "model_history = model.fit(x_train, y_train, batch_size = 20, epochs = 100, validation_data = (x_test, y_test), verbose = 1,)"
   ]
  },
  {
   "cell_type": "code",
   "execution_count": 19,
   "metadata": {},
   "outputs": [
    {
     "name": "stdout",
     "output_type": "stream",
     "text": [
      "1/1 [==============================] - 0s 284ms/step\n",
      "(14, 1)\n"
     ]
    }
   ],
   "source": [
    "## Predict target labels (y_pred) for the test input features (x_test)\n",
    "y_pred = model.predict(x_test)\n",
    "\n",
    "# Print the shape of the predicted labels (y_pred).\n",
    "# The shape indicates the dimensions of the array containing the predicted values.\n",
    "print(y_pred.shape)"
   ]
  },
  {
   "cell_type": "code",
   "execution_count": 20,
   "metadata": {},
   "outputs": [
    {
     "name": "stdout",
     "output_type": "stream",
     "text": [
      "[[146.27934]\n",
      " [147.76543]\n",
      " [147.15338]\n",
      " [146.9029 ]\n",
      " [145.33437]\n",
      " [142.79565]\n",
      " [142.0652 ]\n",
      " [143.0031 ]\n",
      " [143.32133]\n",
      " [143.77092]\n",
      " [144.0511 ]\n",
      " [145.20299]\n",
      " [145.18056]\n",
      " [146.16216]]\n"
     ]
    }
   ],
   "source": [
    "#`inverse_transform` method to revert the scaling on the predicted labels (y_pred).\n",
    "# This step is important to obtain the predictions in the original data range.\n",
    "\n",
    "y_pred = scaler.inverse_transform(y_pred)\n",
    "\n",
    "# Print the array of predicted labels after the inverse transformation.\n",
    "print(y_pred)\n"
   ]
  },
  {
   "cell_type": "code",
   "execution_count": 21,
   "metadata": {},
   "outputs": [
    {
     "name": "stdout",
     "output_type": "stream",
     "text": [
      "(14,)\n"
     ]
    }
   ],
   "source": [
    "print(y_test.shape)"
   ]
  },
  {
   "cell_type": "code",
   "execution_count": 22,
   "metadata": {},
   "outputs": [
    {
     "name": "stdout",
     "output_type": "stream",
     "text": [
      "[[147.11 ]\n",
      " [150.09 ]\n",
      " [148.87 ]\n",
      " [150.2  ]\n",
      " [152.35 ]\n",
      " [153.51 ]\n",
      " [153.11 ]\n",
      " [152.12 ]\n",
      " [150.952]\n",
      " [149.46 ]\n",
      " [153.775]\n",
      " [153.88 ]\n",
      " [150.64 ]\n",
      " [152.575]]\n"
     ]
    }
   ],
   "source": [
    "# Reshaping the true target labels array (y_test) to have a single column.\n",
    "y_test = y_test.reshape(-1,1)\n",
    "# Using`inverse_transform` method to revert the scaling on the reshaped true target labels.\n",
    "# bringing the true target labels back to their original data range.\n",
    "y_test = scaler.inverse_transform(y_test)\n",
    "print(y_test)"
   ]
  },
  {
   "cell_type": "code",
   "execution_count": 23,
   "metadata": {},
   "outputs": [
    {
     "data": {
      "image/png": "[encoded data removed]",
      "text/plain": [
       "<Figure size 600x500 with 1 Axes>"
      ]
     },
     "metadata": {},
     "output_type": "display_data"
    }
   ],
   "source": [
    "plt.figure(figsize=(6,5))\n",
    "plt.plot(y_test, color = 'red', label = \"Historical Apple Stock Price\")\n",
    "plt.plot(y_pred, color = 'green', label = \"Predicted Apple Stock Price\")\n",
    "plt.title('Apple Stock Prices')\n",
    "plt.xlabel('Date')\n",
    "plt.legend()\n",
    "plt.show()"
   ]
  },
  {
   "cell_type": "code",
   "execution_count": 24,
   "metadata": {},
   "outputs": [
    {
     "name": "stdout",
     "output_type": "stream",
     "text": [
      "[[142]\n",
      " [141]\n",
      " [140]\n",
      " [144]\n",
      " [146]\n",
      " [148]\n",
      " [149]\n",
      " [149]\n",
      " [148]]\n",
      "(9, 1)\n"
     ]
    }
   ],
   "source": [
    "new_array = np.array([142, 141, 140, 144, 146, 148, 149, 149, 148])\n",
    "new_array = new_array.reshape(-1,1)\n",
    "print(new_array)\n",
    "print(new_array.shape)"
   ]
  },
  {
   "cell_type": "code",
   "execution_count": 25,
   "metadata": {},
   "outputs": [
    {
     "name": "stdout",
     "output_type": "stream",
     "text": [
      "(1, 9, 1)\n",
      "[[[0.22222222]\n",
      "  [0.11111111]\n",
      "  [0.        ]\n",
      "  [0.44444444]\n",
      "  [0.66666667]\n",
      "  [0.88888889]\n",
      "  [1.        ]\n",
      "  [1.        ]\n",
      "  [0.88888889]]]\n"
     ]
    }
   ],
   "source": [
    "new_array_scaled = scaler.fit_transform(new_array)\n",
    "new_array_scaled = np.reshape(new_array_scaled, (1,9,1))\n",
    "print(new_array_scaled.shape)\n",
    "print(new_array_scaled)"
   ]
  },
  {
   "cell_type": "code",
   "execution_count": 26,
   "metadata": {},
   "outputs": [
    {
     "name": "stdout",
     "output_type": "stream",
     "text": [
      "1/1 [==============================] - 0s 260ms/step\n"
     ]
    }
   ],
   "source": [
    "new_pred = model.predict(new_array_scaled)"
   ]
  },
  {
   "cell_type": "code",
   "execution_count": 27,
   "metadata": {},
   "outputs": [
    {
     "name": "stdout",
     "output_type": "stream",
     "text": [
      "We predict the price of the Apple stock will be: \n",
      "141.27846\n"
     ]
    }
   ],
   "source": [
    "new_pred = scaler.inverse_transform(new_pred)\n",
    "print(\"We predict the price of the Apple stock will be: \")\n",
    "print(*new_pred[0])"
   ]
  },
  {
   "cell_type": "code",
   "execution_count": null,
   "metadata": {},
   "outputs": [],
   "source": []
  }
 ],
 "metadata": {
  "colab": {
   "provenance": []
  },
  "kernelspec": {
   "display_name": "Python 3 (ipykernel)",
   "language": "python",
   "name": "python3"
  },
  "language_info": {
   "codemirror_mode": {
    "name": "ipython",
    "version": 3
   },
   "file_extension": ".py",
   "mimetype": "text/x-python",
   "name": "python",
   "nbconvert_exporter": "python",
   "pygments_lexer": "ipython3",
   "version": "3.9.13"
  }
 },
 "nbformat": 4,
 "nbformat_minor": 1
}
